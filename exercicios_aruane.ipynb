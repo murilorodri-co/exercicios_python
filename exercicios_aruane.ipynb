{
 "cells": [
  {
   "cell_type": "code",
   "execution_count": 55,
   "id": "120d8d1e-2fd5-4ce7-861d-3e34412ee70c",
   "metadata": {},
   "outputs": [
    {
     "name": "stdout",
     "output_type": "stream",
     "text": [
      "[1, 2, 3, 4]\n"
     ]
    }
   ],
   "source": [
    "#exercício 19\n",
    "matriz = [[1,2,\n",
    "           3,4]]\n",
    "for linha in matriz:\n",
    "    print(linha)"
   ]
  },
  {
   "cell_type": "code",
   "execution_count": 56,
   "id": "6f86d99e-732a-4b42-9a3c-392cb0c84d22",
   "metadata": {},
   "outputs": [
    {
     "name": "stdin",
     "output_type": "stream",
     "text": [
      "Insira um elemento para a posição [0][0]: 1\n",
      "Insira um elemento para a posição [0][1]: 2\n",
      "Insira um elemento para a posição [0][2]: 3\n",
      "Insira um elemento para a posição [1][0]: 4\n",
      "Insira um elemento para a posição [1][1]: 5\n",
      "Insira um elemento para a posição [1][2]: 6\n",
      "Insira um elemento para a posição [2][0]: 7\n",
      "Insira um elemento para a posição [2][1]: 8\n",
      "Insira um elemento para a posição [2][2]: 9\n"
     ]
    },
    {
     "name": "stdout",
     "output_type": "stream",
     "text": [
      "1 2 3\n",
      "4 5 6\n",
      "7 8 9\n"
     ]
    }
   ],
   "source": [
    "#exercício 20\n",
    "matriz =[]\n",
    " \n",
    "for i in range(3):\n",
    "    linha =[]\n",
    "    for j in range(3):\n",
    "        valor = int(input(f'Insira um elemento para a posição [{i}][{j}]:'))\n",
    "        linha.append(valor)\n",
    "    matriz.append(linha)\n",
    "\n",
    "for linha in matriz:\n",
    "    print(\" \".join(map(str,linha)))"
   ]
  },
  {
   "cell_type": "code",
   "execution_count": 57,
   "id": "52fccbef-be34-43d6-b19d-f70726ad53d4",
   "metadata": {},
   "outputs": [
    {
     "name": "stdin",
     "output_type": "stream",
     "text": [
      "Insira um elemento para a posição [0][0]: 1\n",
      "Insira um elemento para a posição [0][1]: 2\n",
      "Insira um elemento para a posição [1][0]: 3\n",
      "Insira um elemento para a posição [1][1]: 4\n",
      "Insira um elemento para a posição [0][0]: 5\n",
      "Insira um elemento para a posição [0][1]: 6\n",
      "Insira um elemento para a posição [1][0]: 7\n",
      "Insira um elemento para a posição [1][1]: 8\n"
     ]
    },
    {
     "name": "stdout",
     "output_type": "stream",
     "text": [
      "A soma das matrizes é:\n",
      "6 8\n",
      "10 12\n"
     ]
    }
   ],
   "source": [
    "#exercício 21\n",
    "A=[]\n",
    "B=[]\n",
    "\n",
    "for i in range(2):\n",
    "        linha = [int(input(f'Insira um elemento para a posição [{i}][{j}]:')) for j in range(2)]\n",
    "        A.append(linha)\n",
    "for i in range(2):\n",
    "        linha = [int(input(f'Insira um elemento para a posição [{i}][{j}]:')) for j in range(2)]\n",
    "        B.append(linha)\n",
    "\n",
    "soma = [[A[i][j]+B[i][j] for j in range(2)]for i in range(2)]\n",
    "\n",
    "print('A soma das matrizes é:')\n",
    "for linha in soma:\n",
    "    print(\" \".join(map(str,linha)))"
   ]
  },
  {
   "cell_type": "code",
   "execution_count": 58,
   "id": "63a5e67c-cb14-48c3-a7db-b664365b4dfd",
   "metadata": {},
   "outputs": [
    {
     "name": "stdin",
     "output_type": "stream",
     "text": [
      "Insira um numero: 5\n"
     ]
    },
    {
     "name": "stdout",
     "output_type": "stream",
     "text": [
      "O dobro desse número é: 10\n"
     ]
    }
   ],
   "source": [
    "#exercício 22\n",
    "def dobro (n):\n",
    "    return n * 2\n",
    "\n",
    "valor = int(input('Insira um numero:'))\n",
    "print('O dobro desse número é:',dobro(valor))"
   ]
  },
  {
   "cell_type": "code",
   "execution_count": 59,
   "id": "fbd17cc6-dbe5-490a-abeb-d54c41645511",
   "metadata": {},
   "outputs": [
    {
     "name": "stdin",
     "output_type": "stream",
     "text": [
      "Digite um número:  5\n"
     ]
    },
    {
     "name": "stdout",
     "output_type": "stream",
     "text": [
      "O número 5 é Impar\n"
     ]
    }
   ],
   "source": [
    "#exercício 23\n",
    "def par_ou_impar(n):\n",
    "    if n % 2 == 0:\n",
    "        return 'Par'\n",
    "    else:\n",
    "        return 'Impar'\n",
    "\n",
    "numero = int(input('Digite um número: '))\n",
    "print(f'O número {numero} é {par_ou_impar(numero)}')"
   ]
  },
  {
   "cell_type": "code",
   "execution_count": 60,
   "id": "b7ab30ea-2599-4110-a2e4-681a2032ded3",
   "metadata": {},
   "outputs": [
    {
     "name": "stdout",
     "output_type": "stream",
     "text": [
      "A soma resultou em: 25\n"
     ]
    }
   ],
   "source": [
    "#exercício 24\n",
    "def soma_impares(lista):\n",
    "    return sum(num for num in lista if num % 2 != 0)\n",
    "\n",
    "numeros = [1,2,3,4,5,6,7,8,9]\n",
    "print('A soma resultou em:', soma_impares(numeros))"
   ]
  },
  {
   "cell_type": "code",
   "execution_count": 61,
   "id": "443a90db-f858-4902-a5ce-fb2bbc286b32",
   "metadata": {},
   "outputs": [
    {
     "name": "stdin",
     "output_type": "stream",
     "text": [
      "Digite um número: 10\n"
     ]
    },
    {
     "name": "stdout",
     "output_type": "stream",
     "text": [
      "A raiz quadrada 10.0 é 3.16\n"
     ]
    }
   ],
   "source": [
    "#exercício 25 \n",
    "import math\n",
    "\n",
    "numero =float(input('Digite um número:'))\n",
    "raiz = math.sqrt(numero)\n",
    "\n",
    "print(f'A raiz quadrada {numero} é {raiz:.2f}')"
   ]
  },
  {
   "cell_type": "code",
   "execution_count": 63,
   "id": "a2b1418a-f3f5-4fb2-8dd9-b4ff6b045fc5",
   "metadata": {},
   "outputs": [
    {
     "name": "stdin",
     "output_type": "stream",
     "text": [
      "Digite uma data no formato dd/mm/aaaa: 28/03/2007\n"
     ]
    },
    {
     "name": "stdout",
     "output_type": "stream",
     "text": [
      "A data 28/03/2007 cai em uma Quarta-Feira\n"
     ]
    }
   ],
   "source": [
    "#exercício 26\n",
    "from datetime import datetime\n",
    "\n",
    "data_str = input('Digite uma data no formato dd/mm/aaaa:')\n",
    "data = datetime.strptime(data_str, '%d/%m/%Y')\n",
    "dias_da_semana=['Segunda-Feira','Terça-Feira','Quarta-Feira','Quinta-Feira','sexta-Feira','Sábado','Domingo']\n",
    "dia_semana= dias_da_semana[data.weekday()]\n",
    "\n",
    "print(f'A data {data_str} cai em uma {dia_semana}')"
   ]
  },
  {
   "cell_type": "code",
   "execution_count": 64,
   "id": "94eb9425-da05-408b-85b0-49eb2da85bb6",
   "metadata": {},
   "outputs": [
    {
     "name": "stdin",
     "output_type": "stream",
     "text": [
      "digite um valor: 20\n"
     ]
    },
    {
     "name": "stdout",
     "output_type": "stream",
     "text": [
      "O número aleatório gerado entre 1 e 20 foi : 13\n"
     ]
    }
   ],
   "source": [
    "#exercício 27\n",
    "import random\n",
    "\n",
    "numero= int(input('digite um valor:'))\n",
    "aleatorio = random.randint(1,numero)\n",
    "print(f'O número aleatório gerado entre 1 e {numero} foi : {aleatorio}')"
   ]
  },
  {
   "cell_type": "code",
   "execution_count": 65,
   "id": "00fa4710-4aa1-4ef9-8bd7-3a3246fdeb4e",
   "metadata": {},
   "outputs": [
    {
     "name": "stdout",
     "output_type": "stream",
     "text": [
      "A lista de números aleatórios gerados entre 1 e 100 foi : [73, 32, 80, 78, 6]\n"
     ]
    }
   ],
   "source": [
    "#exercício 28 \n",
    "import random\n",
    "\n",
    "aleatorio = [random.randint(1,100)for _ in range(5)]\n",
    "print(f'A lista de números aleatórios gerados entre 1 e 100 foi : {aleatorio}')"
   ]
  },
  {
   "cell_type": "code",
   "execution_count": 66,
   "id": "fbcd69d8-a9c7-493d-b9de-f72fea897fdd",
   "metadata": {},
   "outputs": [
    {
     "name": "stdout",
     "output_type": "stream",
     "text": [
      "Resultado do dado : 6\n"
     ]
    }
   ],
   "source": [
    "#exercício 29\n",
    "import random\n",
    "import time\n",
    "\n",
    "time.sleep(2)\n",
    "aleatorio = random.randint(1,6)\n",
    "\n",
    "print(f'Resultado do dado : {aleatorio}')"
   ]
  },
  {
   "cell_type": "code",
   "execution_count": 67,
   "id": "0ca15c27-c921-4659-95ed-d308a0daef6a",
   "metadata": {},
   "outputs": [
    {
     "name": "stdout",
     "output_type": "stream",
     "text": [
      "Arquivo 'texto.txt' criado e escrito com sucesso.\n"
     ]
    }
   ],
   "source": [
    "#exercício 30\n",
    "with open('texto.txt','w') as arquivo:\n",
    "    arquivo.write('Python é incrivel!')\n",
    "\n",
    "print(\"Arquivo 'texto.txt' criado e escrito com sucesso.\")"
   ]
  },
  {
   "cell_type": "code",
   "execution_count": 68,
   "id": "296240c5-2cfd-4134-b5e4-71c04886173b",
   "metadata": {},
   "outputs": [
    {
     "name": "stdout",
     "output_type": "stream",
     "text": [
      "Arquivo 'texto.txt' criado e escrito com sucesso.\n",
      "Python é incrivel!\n"
     ]
    }
   ],
   "source": [
    "#exercício 31\n",
    "with open('texto.txt','r') as arquivo:\n",
    "    conteudo= arquivo.read()\n",
    "print(\"Arquivo 'texto.txt' criado e escrito com sucesso.\")\n",
    "print(conteudo)"
   ]
  },
  {
   "cell_type": "code",
   "execution_count": 69,
   "id": "ec9f0d6a-a620-43fc-baaa-5e75be99d61d",
   "metadata": {},
   "outputs": [
    {
     "name": "stdin",
     "output_type": "stream",
     "text": [
      "Digite o nome: Murilo Rodrigues\n",
      "Digite o telefone 123456789\n"
     ]
    },
    {
     "name": "stdout",
     "output_type": "stream",
     "text": [
      "Contato salvo com sucesso em 'contatos.txt'.\n"
     ]
    }
   ],
   "source": [
    "# exercício 32\n",
    "nome= input('Digite o nome:')\n",
    "telefone = input('Digite o telefone')\n",
    "\n",
    "with open('contatos.txt','a') as arquivo:\n",
    "    arquivo.write(f'{nome}:{telefone}\\n')\n",
    "\n",
    "print(\"Contato salvo com sucesso em 'contatos.txt'.\")"
   ]
  },
  {
   "cell_type": "code",
   "execution_count": 70,
   "id": "195dbeaa-b84f-456a-a040-552dbbea3021",
   "metadata": {},
   "outputs": [
    {
     "name": "stdin",
     "output_type": "stream",
     "text": [
      "Insira um número:  50\n"
     ]
    },
    {
     "name": "stdout",
     "output_type": "stream",
     "text": [
      "100 dividido por 50.0 é 2.00\n"
     ]
    }
   ],
   "source": [
    "#execicio 33\n",
    "try:\n",
    "    numero = float(input('Insira um número: '))\n",
    "    resultado = 100 / numero\n",
    "    print(f'100 dividido por {numero} é {resultado:.2f}')\n",
    "except ZeroDivisionError:\n",
    "    print('Não foi possível dividir por zero')\n",
    "except ValueError:\n",
    "    print('Por favor, insira um número válido')"
   ]
  },
  {
   "cell_type": "code",
   "execution_count": 71,
   "id": "21e9d37b-9f15-40a8-ab9c-c2df8a218817",
   "metadata": {},
   "outputs": [
    {
     "name": "stdin",
     "output_type": "stream",
     "text": [
      "Por favor, insira um número:  a\n"
     ]
    },
    {
     "name": "stdout",
     "output_type": "stream",
     "text": [
      "Você inseriu um número inválido. Tente novamente.\n"
     ]
    },
    {
     "name": "stdin",
     "output_type": "stream",
     "text": [
      "Por favor, insira um número:  20\n"
     ]
    },
    {
     "name": "stdout",
     "output_type": "stream",
     "text": [
      "Você inseriu o número 20.0\n"
     ]
    }
   ],
   "source": [
    "#exercício 34\n",
    "while True:\n",
    "    try:\n",
    "        numero = float(input(\"Por favor, insira um número: \"))\n",
    "        print(f\"Você inseriu o número {numero}\")\n",
    "        break\n",
    "    except ValueError:\n",
    "        print(\"Você inseriu um número inválido. Tente novamente.\")"
   ]
  },
  {
   "cell_type": "code",
   "execution_count": 73,
   "id": "52c1f91e-ef17-40a3-a459-b375c19f4545",
   "metadata": {},
   "outputs": [
    {
     "name": "stdin",
     "output_type": "stream",
     "text": [
      "Digite um número inteiro:  20\n"
     ]
    },
    {
     "name": "stdout",
     "output_type": "stream",
     "text": [
      "O quadrado de 20 é 400\n"
     ]
    }
   ],
   "source": [
    "#exercício 35\n",
    "try:\n",
    "    numero = int(input(\"Digite um número inteiro: \"))\n",
    "    quadrado = numero ** 2\n",
    "    print(f\"O quadrado de {numero} é {quadrado}\")\n",
    "except ValueError:\n",
    "    print(\"Você não inseriu um número inteiro inválido. Tente novamente.\")"
   ]
  }
 ],
 "metadata": {
  "kernelspec": {
   "display_name": "Python 3 (ipykernel)",
   "language": "python",
   "name": "python3"
  },
  "language_info": {
   "codemirror_mode": {
    "name": "ipython",
    "version": 3
   },
   "file_extension": ".py",
   "mimetype": "text/x-python",
   "name": "python",
   "nbconvert_exporter": "python",
   "pygments_lexer": "ipython3",
   "version": "3.12.7"
  }
 },
 "nbformat": 4,
 "nbformat_minor": 5
}
