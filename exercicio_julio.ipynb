{
 "cells": [
  {
   "cell_type": "code",
   "execution_count": 2,
   "id": "a0d7f942-0c94-4d62-b7ce-21d09d4a2277",
   "metadata": {},
   "outputs": [
    {
     "name": "stdin",
     "output_type": "stream",
     "text": [
      "Digite os 5 elementos da linha 1 da matriz (separados por vírgula):  1,1,1,1,1\n",
      "Digite os 5 elementos da linha 2 da matriz (separados por vírgula):  2,2,2,2,2\n",
      "Digite os 5 elementos da linha 3 da matriz (separados por vírgula):  3,3,3,3,3\n",
      "Digite os 5 elementos da linha 4 da matriz (separados por vírgula):  4,4,4,4,4\n",
      "Digite os 5 elementos da linha 5 da matriz (separados por vírgula):  5,5,5,5,5\n"
     ]
    },
    {
     "name": "stdout",
     "output_type": "stream",
     "text": [
      "Soma da linha 3: 15\n",
      "Soma da coluna 2: 15\n",
      "Soma da diagonal principal: 15\n",
      "Soma da diagonal secundária: 15\n",
      "Soma de todos os elementos da matriz: 75\n"
     ]
    }
   ],
   "source": [
    "#exercício 31\n",
    "M = []\n",
    "\n",
    "for i in range(5):\n",
    "    while True:\n",
    "        try:\n",
    "            linha = list(map(int, input(f\"Digite os 5 elementos da linha {i+1} da matriz (separados por vírgula): \").split(',')))\n",
    "            if len(linha) == 5:\n",
    "                M.append(linha)\n",
    "                break\n",
    "            else:\n",
    "                print(\"Por favor, digite exatamente 5 números.\")\n",
    "        except ValueError:\n",
    "            print(\"Entrada inválida! Certifique-se de digitar números inteiros.\")\n",
    "\n",
    "soma_linha_3 = sum(M[2])\n",
    "soma_coluna_2 = sum(M[i][1] for i in range(5))\n",
    "soma_diagonal_principal = sum(M[i][i] for i in range(5))\n",
    "soma_diagonal_secundaria = sum(M[i][4-i] for i in range(5))\n",
    "soma_total = sum(sum(linha) for linha in M)\n",
    "\n",
    "print(f\"Soma da linha 3: {soma_linha_3}\")\n",
    "print(f\"Soma da coluna 2: {soma_coluna_2}\")\n",
    "print(f\"Soma da diagonal principal: {soma_diagonal_principal}\")\n",
    "print(f\"Soma da diagonal secundária: {soma_diagonal_secundaria}\")\n",
    "print(f\"Soma de todos os elementos da matriz: {soma_total}\")"
   ]
  },
  {
   "cell_type": "code",
   "execution_count": 3,
   "id": "965f99f7-56b0-4657-b087-01f9ac884a42",
   "metadata": {},
   "outputs": [
    {
     "name": "stdin",
     "output_type": "stream",
     "text": [
      "Digite os 6 elementos da linha 1 da matriz A (separe por vírgula):  1,2,3,4,5,6\n",
      "Digite os 6 elementos da linha 2 da matriz A (separe por vírgula):  7,8,9,10,11,12\n",
      "Digite os 6 elementos da linha 3 da matriz A (separe por vírgula):  1,2,3,4,5,6\n",
      "Digite os 6 elementos da linha 4 da matriz A (separe por vírgula):  7,8,9,10,11,12\n",
      "Digite os 6 elementos da linha 1 da matriz B (separe por vírgula):  1,2,3,4,5,6\n",
      "Digite os 6 elementos da linha 2 da matriz B (separe por vírgula):  1,2,3,4,5,6\n",
      "Digite os 6 elementos da linha 3 da matriz B (separe por vírgula):  1,2,3,4,5,6\n",
      "Digite os 6 elementos da linha 4 da matriz B (separe por vírgula):  1,2,3,4,5,6\n"
     ]
    },
    {
     "name": "stdout",
     "output_type": "stream",
     "text": [
      "\n",
      "Matriz S (Soma de A e B):\n",
      "[2, 4, 6, 8, 10, 12]\n",
      "[8, 10, 12, 14, 16, 18]\n",
      "[2, 4, 6, 8, 10, 12]\n",
      "[8, 10, 12, 14, 16, 18]\n",
      "\n",
      "Matriz D (Diferença de A e B):\n",
      "[0, 0, 0, 0, 0, 0]\n",
      "[6, 6, 6, 6, 6, 6]\n",
      "[0, 0, 0, 0, 0, 0]\n",
      "[6, 6, 6, 6, 6, 6]\n"
     ]
    }
   ],
   "source": [
    "#exercício 32\n",
    "A = []\n",
    "for i in range(4):\n",
    "    while True:\n",
    "        try:\n",
    "            linha = list(map(int, input(f\"Digite os 6 elementos da linha {i+1} da matriz A (separe por vírgula): \").split(',')))\n",
    "            if len(linha) == 6:  \n",
    "                A.append(linha)\n",
    "                break\n",
    "            else:\n",
    "                print(\"Por favor, digite exatamente 6 números.\")\n",
    "        except ValueError:\n",
    "            print(\"Entrada inválida! Certifique-se de digitar números inteiros.\")\n",
    "\n",
    "\n",
    "B = []\n",
    "for i in range(4):\n",
    "    while True:\n",
    "        try:\n",
    "            linha = list(map(int, input(f\"Digite os 6 elementos da linha {i+1} da matriz B (separe por vírgula): \").split(',')))\n",
    "            if len(linha) == 6:\n",
    "                B.append(linha)\n",
    "                break\n",
    "            else:\n",
    "                print(\"Por favor, digite exatamente 6 números.\")\n",
    "        except ValueError:\n",
    "            print(\"Entrada inválida! Certifique-se de digitar números inteiros.\")\n",
    "\n",
    "\n",
    "S = [[A[i][j] + B[i][j] for j in range(6)] for i in range(4)]\n",
    "\n",
    "\n",
    "D = [[A[i][j] - B[i][j] for j in range(6)] for i in range(4)]\n",
    "\n",
    "\n",
    "print(\"\\nMatriz S (Soma de A e B):\")\n",
    "for linha in S:\n",
    "    print(linha)\n",
    "\n",
    "print(\"\\nMatriz D (Diferença de A e B):\")\n",
    "for linha in D:\n",
    "    print(linha)"
   ]
  },
  {
   "cell_type": "code",
   "execution_count": 4,
   "id": "645bb8a6-4b28-468b-8fa2-95a49b2dea7f",
   "metadata": {},
   "outputs": [
    {
     "name": "stdin",
     "output_type": "stream",
     "text": [
      "Digite os 4 elementos da linha 1 da matriz A (separe por vírgula):  1,2,3,4\n",
      "Digite os 4 elementos da linha 2 da matriz A (separe por vírgula):  5,6,7,8\n",
      "Digite os 4 elementos da linha 3 da matriz A (separe por vírgula):  9,10,11,12\n",
      "Digite os 4 elementos da linha 4 da matriz A (separe por vírgula):  1,2,3,4\n"
     ]
    },
    {
     "name": "stdout",
     "output_type": "stream",
     "text": [
      "Soma dos elementos marcados com X: 21\n"
     ]
    }
   ],
   "source": [
    "#exercício 33\n",
    "A = [list(map(int, input(f\"Digite os 4 elementos da linha {i+1} da matriz A (separe por vírgula): \").split(','))) for i in range(4)]\n",
    "\n",
    "soma_x = 0\n",
    "\n",
    "indices_x = [(0, 0), (0, 1), (1, 0), (1, 1), (3, 2), (3, 3)]\n",
    "\n",
    "for i, j in indices_x:\n",
    "    soma_x += A[i][j]\n",
    "\n",
    "print(f\"Soma dos elementos marcados com X: {soma_x}\")"
   ]
  },
  {
   "cell_type": "code",
   "execution_count": 6,
   "id": "0469e429-ab98-4c97-85f6-0635260356d5",
   "metadata": {},
   "outputs": [
    {
     "name": "stdin",
     "output_type": "stream",
     "text": [
      "Digite os 5 elementos da linha 1 da matriz D (separe por vírgula):  1,2,3,4,5\n",
      "Digite os 5 elementos da linha 2 da matriz D (separe por vírgula):  1,2,3,4,5\n",
      "Digite os 5 elementos da linha 3 da matriz D (separe por vírgula):  1,2,3,4,5\n",
      "Digite os 5 elementos da linha 4 da matriz D (separe por vírgula):  1,2,3,4,5\n",
      "Digite os 5 elementos da linha 5 da matriz D (separe por vírgula):  1,2,3,4,5\n",
      "Digite o valor X que deseja procurar na matriz:  5\n"
     ]
    },
    {
     "name": "stdout",
     "output_type": "stream",
     "text": [
      "O valor 5 existe na matriz.\n"
     ]
    }
   ],
   "source": [
    "#exercício 34\n",
    "\n",
    "D = [list(map(int, input(f\"Digite os 5 elementos da linha {i+1} da matriz D (separe por vírgula): \").split(','))) for i in range(5)]\n",
    "\n",
    "valor_x = int(input(\"Digite o valor X que deseja procurar na matriz: \"))\n",
    "\n",
    "existe = any(valor_x in linha for linha in D)\n",
    "\n",
    "if existe:\n",
    "    print(f\"O valor {valor_x} existe na matriz.\")\n",
    "else:\n",
    "    print(f\"O valor {valor_x} NÃO existe na matriz.\")"
   ]
  },
  {
   "cell_type": "code",
   "execution_count": 8,
   "id": "085ada90-4fa1-4090-872e-2c20962f9e0f",
   "metadata": {},
   "outputs": [
    {
     "name": "stdin",
     "output_type": "stream",
     "text": [
      "Digite os 5 elementos da linha 1 da matriz G (separe por vírgula):  1,2,3,4,5\n",
      "Digite os 5 elementos da linha 2 da matriz G (separe por vírgula):  1,2,3,4,5\n",
      "Digite os 5 elementos da linha 3 da matriz G (separe por vírgula):  1,2,3,4,5\n",
      "Digite os 5 elementos da linha 4 da matriz G (separe por vírgula):  1,2,3,4,5\n",
      "Digite os 5 elementos da linha 5 da matriz G (separe por vírgula):  1,2,3,4,5\n"
     ]
    },
    {
     "name": "stdout",
     "output_type": "stream",
     "text": [
      "Somas das linhas (SL): [15, 15, 15, 15, 15]\n",
      "Somas das colunas (SC): [5, 10, 15, 20, 25]\n"
     ]
    }
   ],
   "source": [
    "#exercício 35\n",
    "G = [list(map(int, input(f\"Digite os 5 elementos da linha {i+1} da matriz G (separe por vírgula): \").split(','))) for i in range(5)]\n",
    "\n",
    "SL = [sum(linha) for linha in G]\n",
    "SC = [sum(G[i][j] for i in range(5)) for j in range(5)]\n",
    "\n",
    "print(\"Somas das linhas (SL):\", SL)\n",
    "print(\"Somas das colunas (SC):\", SC)"
   ]
  },
  {
   "cell_type": "code",
   "execution_count": 9,
   "id": "2cfb65ec-dc93-42fa-9c06-924d1aa4d0a0",
   "metadata": {},
   "outputs": [
    {
     "name": "stdin",
     "output_type": "stream",
     "text": [
      "Digite os 13 elementos da linha 1 da matriz A (separe por vírgula):  1,2,3,4,5,6,7,8,9,10,11,12,13\n",
      "Digite os 13 elementos da linha 2 da matriz A (separe por vírgula):  1,2,3,4,5,6,7,8,9,10,11,12,13\n",
      "Digite os 13 elementos da linha 3 da matriz A (separe por vírgula):  1,2,3,4,5,6,7,8,9,10,11,12,13\n",
      "Digite os 13 elementos da linha 4 da matriz A (separe por vírgula):  1,2,3,4,5,6,7,8,9,10,11,12,13\n",
      "Digite os 13 elementos da linha 5 da matriz A (separe por vírgula):  1,2,3,4,5,6,7,8,9,10,11,12,13\n",
      "Digite os 13 elementos da linha 6 da matriz A (separe por vírgula):  1,2,3,4,5,6,7,8,9,10,11,12,13\n",
      "Digite os 13 elementos da linha 7 da matriz A (separe por vírgula):  1,2,3,4,5,6,7,8,9,10,11,12,13\n",
      "Digite os 13 elementos da linha 8 da matriz A (separe por vírgula):  1,2,3,4,5,6,7,8,9,10,11,12,13\n",
      "Digite os 13 elementos da linha 9 da matriz A (separe por vírgula):  1,2,3,4,5,6,7,8,9,10,11,12,13\n",
      "Digite os 13 elementos da linha 10 da matriz A (separe por vírgula):  1,2,3,4,5,6,7,8,9,10,11,12,13\n",
      "Digite os 13 elementos da linha 11 da matriz A (separe por vírgula):  1,2,3,4,5,6,7,8,9,10,11,12,13\n",
      "Digite os 13 elementos da linha 12 da matriz A (separe por vírgula):  1,2,3,4,5,6,7,8,9,10,11,12,13\n"
     ]
    },
    {
     "name": "stdout",
     "output_type": "stream",
     "text": [
      "[0.07692307692307693, 0.15384615384615385, 0.23076923076923078, 0.3076923076923077, 0.38461538461538464, 0.46153846153846156, 0.5384615384615384, 0.6153846153846154, 0.6923076923076923, 0.7692307692307693, 0.8461538461538461, 0.9230769230769231, 1.0]\n",
      "[0.07692307692307693, 0.15384615384615385, 0.23076923076923078, 0.3076923076923077, 0.38461538461538464, 0.46153846153846156, 0.5384615384615384, 0.6153846153846154, 0.6923076923076923, 0.7692307692307693, 0.8461538461538461, 0.9230769230769231, 1.0]\n",
      "[0.07692307692307693, 0.15384615384615385, 0.23076923076923078, 0.3076923076923077, 0.38461538461538464, 0.46153846153846156, 0.5384615384615384, 0.6153846153846154, 0.6923076923076923, 0.7692307692307693, 0.8461538461538461, 0.9230769230769231, 1.0]\n",
      "[0.07692307692307693, 0.15384615384615385, 0.23076923076923078, 0.3076923076923077, 0.38461538461538464, 0.46153846153846156, 0.5384615384615384, 0.6153846153846154, 0.6923076923076923, 0.7692307692307693, 0.8461538461538461, 0.9230769230769231, 1.0]\n",
      "[0.07692307692307693, 0.15384615384615385, 0.23076923076923078, 0.3076923076923077, 0.38461538461538464, 0.46153846153846156, 0.5384615384615384, 0.6153846153846154, 0.6923076923076923, 0.7692307692307693, 0.8461538461538461, 0.9230769230769231, 1.0]\n",
      "[0.07692307692307693, 0.15384615384615385, 0.23076923076923078, 0.3076923076923077, 0.38461538461538464, 0.46153846153846156, 0.5384615384615384, 0.6153846153846154, 0.6923076923076923, 0.7692307692307693, 0.8461538461538461, 0.9230769230769231, 1.0]\n",
      "[0.07692307692307693, 0.15384615384615385, 0.23076923076923078, 0.3076923076923077, 0.38461538461538464, 0.46153846153846156, 0.5384615384615384, 0.6153846153846154, 0.6923076923076923, 0.7692307692307693, 0.8461538461538461, 0.9230769230769231, 1.0]\n",
      "[0.07692307692307693, 0.15384615384615385, 0.23076923076923078, 0.3076923076923077, 0.38461538461538464, 0.46153846153846156, 0.5384615384615384, 0.6153846153846154, 0.6923076923076923, 0.7692307692307693, 0.8461538461538461, 0.9230769230769231, 1.0]\n",
      "[0.07692307692307693, 0.15384615384615385, 0.23076923076923078, 0.3076923076923077, 0.38461538461538464, 0.46153846153846156, 0.5384615384615384, 0.6153846153846154, 0.6923076923076923, 0.7692307692307693, 0.8461538461538461, 0.9230769230769231, 1.0]\n",
      "[0.07692307692307693, 0.15384615384615385, 0.23076923076923078, 0.3076923076923077, 0.38461538461538464, 0.46153846153846156, 0.5384615384615384, 0.6153846153846154, 0.6923076923076923, 0.7692307692307693, 0.8461538461538461, 0.9230769230769231, 1.0]\n",
      "[0.07692307692307693, 0.15384615384615385, 0.23076923076923078, 0.3076923076923077, 0.38461538461538464, 0.46153846153846156, 0.5384615384615384, 0.6153846153846154, 0.6923076923076923, 0.7692307692307693, 0.8461538461538461, 0.9230769230769231, 1.0]\n",
      "[0.07692307692307693, 0.15384615384615385, 0.23076923076923078, 0.3076923076923077, 0.38461538461538464, 0.46153846153846156, 0.5384615384615384, 0.6153846153846154, 0.6923076923076923, 0.7692307692307693, 0.8461538461538461, 0.9230769230769231, 1.0]\n"
     ]
    }
   ],
   "source": [
    "#exercício 36\n",
    "A = [list(map(int, input(f\"Digite os 13 elementos da linha {i+1} da matriz A (separe por vírgula): \").split(','))) for i in range(12)]\n",
    "\n",
    "for i in range(12):\n",
    "    maior = max(A[i])\n",
    "    A[i] = [x / maior for x in A[i]]\n",
    "\n",
    "for linha in A:\n",
    "    print(linha)"
   ]
  },
  {
   "cell_type": "code",
   "execution_count": 10,
   "id": "c7d3a179-6165-40bf-9e7c-8cdd0334de18",
   "metadata": {},
   "outputs": [
    {
     "name": "stdin",
     "output_type": "stream",
     "text": [
      "Digite o valor do elemento 1 (1 - coluna um, 2 - coluna do meio, 3 - coluna dois):  1\n",
      "Digite o valor do elemento 2 (1 - coluna um, 2 - coluna do meio, 3 - coluna dois):  2\n",
      "Digite o valor do elemento 3 (1 - coluna um, 2 - coluna do meio, 3 - coluna dois):  3\n",
      "Digite o valor do elemento 4 (1 - coluna um, 2 - coluna do meio, 3 - coluna dois):  1\n",
      "Digite o valor do elemento 5 (1 - coluna um, 2 - coluna do meio, 3 - coluna dois):  2\n",
      "Digite o valor do elemento 6 (1 - coluna um, 2 - coluna do meio, 3 - coluna dois):  3\n",
      "Digite o valor do elemento 7 (1 - coluna um, 2 - coluna do meio, 3 - coluna dois):  4\n",
      "Digite o valor do elemento 8 (1 - coluna um, 2 - coluna do meio, 3 - coluna dois):  1\n",
      "Digite o valor do elemento 9 (1 - coluna um, 2 - coluna do meio, 3 - coluna dois):  2\n",
      "Digite o valor do elemento 10 (1 - coluna um, 2 - coluna do meio, 3 - coluna dois):  3\n",
      "Digite o valor do elemento 11 (1 - coluna um, 2 - coluna do meio, 3 - coluna dois):  4\n",
      "Digite o valor do elemento 12 (1 - coluna um, 2 - coluna do meio, 3 - coluna dois):  5\n",
      "Digite o valor do elemento 13 (1 - coluna um, 2 - coluna do meio, 3 - coluna dois):  6\n"
     ]
    },
    {
     "name": "stdout",
     "output_type": "stream",
     "text": [
      "Gabarito da loteria esportiva (codificado):\n",
      "[1, 2, 3, 1, 2, 3, 4, 1, 2, 3, 4, 5, 6]\n"
     ]
    }
   ],
   "source": [
    "#exercício 37\n",
    "G = [int(input(f\"Digite o valor do elemento {i+1} (1 - coluna um, 2 - coluna do meio, 3 - coluna dois): \")) for i in range(13)]\n",
    "\n",
    "print(\"Gabarito da loteria esportiva (codificado):\")\n",
    "print(G)"
   ]
  },
  {
   "cell_type": "code",
   "execution_count": 11,
   "id": "1ef218cb-8df9-404c-8a0d-75f97c184148",
   "metadata": {},
   "outputs": [
    {
     "name": "stdin",
     "output_type": "stream",
     "text": [
      "Digite o valor do elemento 1 (1 - coluna um, 2 - coluna do meio, 3 - coluna dois):  2\n",
      "Digite o valor do elemento 2 (1 - coluna um, 2 - coluna do meio, 3 - coluna dois):  3\n",
      "Digite o valor do elemento 3 (1 - coluna um, 2 - coluna do meio, 3 - coluna dois):  8\n",
      "Digite o valor do elemento 4 (1 - coluna um, 2 - coluna do meio, 3 - coluna dois):  1\n",
      "Digite o valor do elemento 5 (1 - coluna um, 2 - coluna do meio, 3 - coluna dois):  9\n",
      "Digite o valor do elemento 6 (1 - coluna um, 2 - coluna do meio, 3 - coluna dois):  12\n",
      "Digite o valor do elemento 7 (1 - coluna um, 2 - coluna do meio, 3 - coluna dois):  8\n",
      "Digite o valor do elemento 8 (1 - coluna um, 2 - coluna do meio, 3 - coluna dois):  5\n",
      "Digite o valor do elemento 9 (1 - coluna um, 2 - coluna do meio, 3 - coluna dois):  4\n",
      "Digite o valor do elemento 10 (1 - coluna um, 2 - coluna do meio, 3 - coluna dois):  3\n",
      "Digite o valor do elemento 11 (1 - coluna um, 2 - coluna do meio, 3 - coluna dois):  2\n",
      "Digite o valor do elemento 12 (1 - coluna um, 2 - coluna do meio, 3 - coluna dois):  1\n",
      "Digite o valor do elemento 13 (1 - coluna um, 2 - coluna do meio, 3 - coluna dois):  5\n",
      "Digite os 3 elementos da aposta da linha 1 (separados por vírgula):  2,3,1\n",
      "Digite os 3 elementos da aposta da linha 2 (separados por vírgula):  2,5,2\n",
      "Digite os 3 elementos da aposta da linha 3 (separados por vírgula):  8,7,6\n",
      "Digite os 3 elementos da aposta da linha 4 (separados por vírgula):  1,2,3\n",
      "Digite os 3 elementos da aposta da linha 5 (separados por vírgula):  4,3,2\n",
      "Digite os 3 elementos da aposta da linha 6 (separados por vírgula):  1,5,3\n",
      "Digite os 3 elementos da aposta da linha 7 (separados por vírgula):  7,9,5\n",
      "Digite os 3 elementos da aposta da linha 8 (separados por vírgula):  9,5,8\n",
      "Digite os 3 elementos da aposta da linha 9 (separados por vírgula):  9,9,5\n",
      "Digite os 3 elementos da aposta da linha 10 (separados por vírgula):  3,3,6\n",
      "Digite os 3 elementos da aposta da linha 11 (separados por vírgula):  7,7,7\n",
      "Digite os 3 elementos da aposta da linha 12 (separados por vírgula):  6,6,6\n",
      "Digite os 3 elementos da aposta da linha 13 (separados por vírgula):  5,5,5\n"
     ]
    },
    {
     "name": "stdout",
     "output_type": "stream",
     "text": [
      "Número de pontos obtidos: 1\n",
      "Apostas simples: 0\n",
      "Apostas duplas: 0\n",
      "Apostas triplas: 0\n"
     ]
    }
   ],
   "source": [
    "#exercício 38\n",
    "G = [int(input(f\"Digite o valor do elemento {i+1} (1 - coluna um, 2 - coluna do meio, 3 - coluna dois): \")) for i in range(13)]\n",
    "\n",
    "Aposta = []\n",
    "for i in range(13):\n",
    "    linha = list(map(int, input(f\"Digite os 3 elementos da aposta da linha {i+1} (separados por vírgula): \").split(',')))\n",
    "    Aposta.append(linha)\n",
    "\n",
    "pontos = 0\n",
    "for i in range(13):\n",
    "    for j in range(3):\n",
    "        if G[i] == j + 1 and Aposta[i][j] == 1:\n",
    "            pontos += 1\n",
    "\n",
    "simples = 0\n",
    "duplas = 0\n",
    "triplas = 0\n",
    "\n",
    "for linha in Aposta:\n",
    "    apostas = sum(linha)\n",
    "    if apostas == 1:\n",
    "        simples += 1\n",
    "    elif apostas == 2:\n",
    "        duplas += 1\n",
    "    elif apostas == 3:\n",
    "        triplas += 1\n",
    "\n",
    "print(f\"Número de pontos obtidos: {pontos}\")\n",
    "print(f\"Apostas simples: {simples}\")\n",
    "print(f\"Apostas duplas: {duplas}\")\n",
    "print(f\"Apostas triplas: {triplas}\")"
   ]
  },
  {
   "cell_type": "code",
   "execution_count": 13,
   "id": "6f6b50f0-29eb-4e1b-9838-b426e7ab2021",
   "metadata": {},
   "outputs": [
    {
     "name": "stdin",
     "output_type": "stream",
     "text": [
      "Digite o primeiro valor:  5\n",
      "Digite o segundo valor:  3\n"
     ]
    },
    {
     "name": "stdout",
     "output_type": "stream",
     "text": [
      "Escolha a operação:\n",
      "1 - Somar\n",
      "2 - Subtrair\n",
      "3 - Multiplicar\n",
      "4 - Dividir\n"
     ]
    },
    {
     "name": "stdin",
     "output_type": "stream",
     "text": [
      "Digite a opção desejada (1/2/3/4):  2\n"
     ]
    },
    {
     "name": "stdout",
     "output_type": "stream",
     "text": [
      "\n",
      "Resultado: 2.0\n"
     ]
    }
   ],
   "source": [
    "#exercício 39\n",
    "def somar(a, b):\n",
    "    return a + b\n",
    "\n",
    "def subtrair(a, b):\n",
    "    return a - b\n",
    "\n",
    "def multiplicar(a, b):\n",
    "    return a * b\n",
    "\n",
    "def dividir(a, b):\n",
    "    if b == 0:\n",
    "        return \"Erro! Divisão por zero.\"\n",
    "    return a / b\n",
    "\n",
    "def calculadora():\n",
    "    try:\n",
    "        a = float(input(\"Digite o primeiro valor: \"))\n",
    "        b = float(input(\"Digite o segundo valor: \"))\n",
    "    except ValueError:\n",
    "        return \"Entrada inválida! Por favor, insira números.\"\n",
    "\n",
    "    print(\"Escolha a operação:\")\n",
    "    print(\"1 - Somar\")\n",
    "    print(\"2 - Subtrair\")\n",
    "    print(\"3 - Multiplicar\")\n",
    "    print(\"4 - Dividir\")\n",
    "\n",
    "    operacao = input(\"Digite a opção desejada (1/2/3/4): \")\n",
    "\n",
    "    if operacao == '1':\n",
    "        resultado = somar(a, b)\n",
    "    elif operacao == '2':\n",
    "        resultado = subtrair(a, b)\n",
    "    elif operacao == '3':\n",
    "        resultado = multiplicar(a, b)\n",
    "    elif operacao == '4':\n",
    "        resultado = dividir(a, b)\n",
    "    else:\n",
    "        resultado = \"Operação inválida!\"\n",
    "\n",
    "    print(f\"\\nResultado: {resultado}\")\n",
    "\n",
    "calculadora()"
   ]
  },
  {
   "cell_type": "code",
   "execution_count": 15,
   "id": "ad400278-756f-46df-9bb4-11056fac109a",
   "metadata": {},
   "outputs": [
    {
     "name": "stdin",
     "output_type": "stream",
     "text": [
      "Digite o primeiro valor:  5\n",
      "Digite o segundo valor:  5\n"
     ]
    },
    {
     "name": "stdout",
     "output_type": "stream",
     "text": [
      "Escolha a operação:\n",
      "1 - Somar\n",
      "2 - Subtrair\n",
      "3 - Multiplicar\n",
      "4 - Dividir\n"
     ]
    },
    {
     "name": "stdin",
     "output_type": "stream",
     "text": [
      "Digite a opção desejada (1/2/3/4):  3\n"
     ]
    },
    {
     "name": "stdout",
     "output_type": "stream",
     "text": [
      "Resultado: 25.0\n"
     ]
    }
   ],
   "source": [
    "#exercício 40\n",
    "def somar(a, b):\n",
    "    return a + b\n",
    "\n",
    "def subtrair(a, b):\n",
    "    return a - b\n",
    "\n",
    "def multiplicar(a, b):\n",
    "    resultado = 0\n",
    "    for _ in range(abs(int(b))):\n",
    "        resultado = somar(resultado, a)\n",
    "    if b < 0:\n",
    "        resultado = -resultado\n",
    "    return resultado\n",
    "\n",
    "def dividir(a, b):\n",
    "    if b == 0:\n",
    "        return \"Erro! Divisão por zero.\"\n",
    "    return a / b\n",
    "\n",
    "def calculadora():\n",
    "    try:\n",
    "        a = float(input(\"Digite o primeiro valor: \"))\n",
    "        b = float(input(\"Digite o segundo valor: \"))\n",
    "    except ValueError:\n",
    "        return \"Entrada inválida! Por favor, insira números.\"\n",
    "\n",
    "    print(\"Escolha a operação:\")\n",
    "    print(\"1 - Somar\")\n",
    "    print(\"2 - Subtrair\")\n",
    "    print(\"3 - Multiplicar\")\n",
    "    print(\"4 - Dividir\")\n",
    "\n",
    "    operacao = input(\"Digite a opção desejada (1/2/3/4): \")\n",
    "\n",
    "    if operacao == '1':\n",
    "        resultado = somar(a, b)\n",
    "    elif operacao == '2':\n",
    "        resultado = subtrair(a, b)\n",
    "    elif operacao == '3':\n",
    "        resultado = multiplicar(a, b)\n",
    "    elif operacao == '4':\n",
    "        resultado = dividir(a, b)\n",
    "    else:\n",
    "        resultado = \"Operação inválida!\"\n",
    "\n",
    "    print(f\"Resultado: {resultado}\")\n",
    "\n",
    "calculadora()"
   ]
  },
  {
   "cell_type": "code",
   "execution_count": 17,
   "id": "feadd642-0d75-49c1-b456-da6ebcbd4f52",
   "metadata": {},
   "outputs": [
    {
     "name": "stdin",
     "output_type": "stream",
     "text": [
      "Digite a distância percorrida (em metros):  500\n",
      "Digite o tempo gasto (em segundos):  60\n"
     ]
    },
    {
     "name": "stdout",
     "output_type": "stream",
     "text": [
      "A velocidade média é: 8.333333333333334 metros por segundo\n"
     ]
    }
   ],
   "source": [
    "#exercício 41\n",
    "def velocidade_media(distancia, tempo):\n",
    "    if tempo <= 0:\n",
    "        return \"O tempo deve ser maior que zero.\"\n",
    "    return distancia / tempo\n",
    "\n",
    "distancia = float(input(\"Digite a distância percorrida (em metros): \"))\n",
    "tempo = float(input(\"Digite o tempo gasto (em segundos): \"))\n",
    "\n",
    "resultado = velocidade_media(distancia, tempo)\n",
    "print(f\"A velocidade média é: {resultado} metros por segundo\")"
   ]
  },
  {
   "cell_type": "code",
   "execution_count": 18,
   "id": "e1e079d6-bb96-47d9-80cd-3f847e1e02ef",
   "metadata": {},
   "outputs": [
    {
     "name": "stdin",
     "output_type": "stream",
     "text": [
      "Digite a distância percorrida (em metros):  500\n",
      "Digite o tempo gasto (em segundos):  60\n"
     ]
    },
    {
     "name": "stdout",
     "output_type": "stream",
     "text": [
      "A velocidade média é: 8.333333333333334 metros por segundo\n"
     ]
    }
   ],
   "source": [
    "#exercício 42\n",
    "def divisao(a, b):\n",
    "    if b == 0:\n",
    "        return \"Erro! Divisão por zero.\"\n",
    "    return a / b\n",
    "\n",
    "def velocidade_media(distancia, tempo):\n",
    "    if tempo <= 0:\n",
    "        return \"O tempo deve ser maior que zero.\"\n",
    "    return divisao(distancia, tempo)\n",
    "\n",
    "distancia = float(input(\"Digite a distância percorrida (em metros): \"))\n",
    "tempo = float(input(\"Digite o tempo gasto (em segundos): \"))\n",
    "\n",
    "resultado = velocidade_media(distancia, tempo)\n",
    "print(f\"A velocidade média é: {resultado} metros por segundo\")"
   ]
  },
  {
   "cell_type": "code",
   "execution_count": 20,
   "id": "40e9997d-7d98-4ed7-8fbb-b022ce743805",
   "metadata": {},
   "outputs": [
    {
     "name": "stdin",
     "output_type": "stream",
     "text": [
      "Digite um número:  10\n"
     ]
    },
    {
     "name": "stdout",
     "output_type": "stream",
     "text": [
      "Crescente: 01\n",
      "Decrescente: 10\n",
      "Reverso: 01\n"
     ]
    }
   ],
   "source": [
    "#exercício 43\n",
    "def organizar_numero(numero):\n",
    "    numero_str = str(numero)\n",
    "    \n",
    "    crescente = ''.join(sorted(numero_str))\n",
    "    decrescente = ''.join(sorted(numero_str, reverse=True))\n",
    "    reverso = numero_str[::-1]\n",
    "    \n",
    "    return crescente, decrescente, reverso\n",
    "\n",
    "numero = int(input(\"Digite um número: \"))\n",
    "crescente, decrescente, reverso = organizar_numero(numero)\n",
    "\n",
    "print(f\"Crescente: {crescente}\")\n",
    "print(f\"Decrescente: {decrescente}\")\n",
    "print(f\"Reverso: {reverso}\")"
   ]
  },
  {
   "cell_type": "code",
   "execution_count": 22,
   "id": "5ddeb365-b420-4d95-8b11-225e99098acc",
   "metadata": {},
   "outputs": [
    {
     "name": "stdin",
     "output_type": "stream",
     "text": [
      "Digite a hora em formato 24 horas (0-23):  13\n",
      "Digite os minutos (0-59):  20\n"
     ]
    },
    {
     "name": "stdout",
     "output_type": "stream",
     "text": [
      "1:20 P.\n"
     ]
    },
    {
     "name": "stdin",
     "output_type": "stream",
     "text": [
      "Deseja converter outro horário? (y/n):  y\n",
      "Digite a hora em formato 24 horas (0-23):  13\n",
      "Digite os minutos (0-59):  50\n"
     ]
    },
    {
     "name": "stdout",
     "output_type": "stream",
     "text": [
      "1:50 P.\n"
     ]
    },
    {
     "name": "stdin",
     "output_type": "stream",
     "text": [
      "Deseja converter outro horário? (y/n):  n\n"
     ]
    }
   ],
   "source": [
    "def converter_24_para_12(hora_24, minuto_24):\n",
    "    if hora_24 == 0:\n",
    "        hora_12 = 12\n",
    "        periodo = 'A'\n",
    "    elif hora_24 == 12:\n",
    "        hora_12 = 12\n",
    "        periodo = 'P'\n",
    "    elif hora_24 > 12:\n",
    "        hora_12 = hora_24 - 12\n",
    "        periodo = 'P'\n",
    "    else:\n",
    "        hora_12 = hora_24\n",
    "        periodo = 'A'\n",
    "    \n",
    "    return hora_12, minuto_24, periodo\n",
    "\n",
    "def exibir_resultado(hora_12, minuto_24, periodo):\n",
    "    print(f\"{hora_12}:{minuto_24:02d} {periodo}.\")\n",
    "    \n",
    "def main():\n",
    "    while True:\n",
    "        try:\n",
    "            hora_24 = int(input(\"Digite a hora em formato 24 horas (0-23): \"))\n",
    "            minuto_24 = int(input(\"Digite os minutos (0-59): \"))\n",
    "            \n",
    "            if not (0 <= hora_24 < 24 and 0 <= minuto_24 < 60):\n",
    "                print(\"Entrada inválida! A hora deve estar entre 0 e 23, e os minutos entre 0 e 59.\")\n",
    "                continue\n",
    "            \n",
    "            hora_12, minuto_12, periodo = converter_24_para_12(hora_24, minuto_24)\n",
    "            exibir_resultado(hora_12, minuto_12, periodo)\n",
    "            \n",
    "            continuar = input(\"Deseja converter outro horário? (y/n): \").lower()\n",
    "            if continuar != 'y':\n",
    "                break\n",
    "        except ValueError:\n",
    "            print(\"Entrada inválida! Por favor, insira números inteiros.\")\n",
    "\n",
    "main()"
   ]
  },
  {
   "cell_type": "code",
   "execution_count": 23,
   "id": "903434f0-8015-4c37-9321-b786ddcec8a5",
   "metadata": {},
   "outputs": [
    {
     "name": "stdin",
     "output_type": "stream",
     "text": [
      "Digite uma data no formato DD/MM/AAAA:  28/03/2007\n"
     ]
    },
    {
     "name": "stdout",
     "output_type": "stream",
     "text": [
      "A data por extenso é: 28 de Março de 2007\n"
     ]
    }
   ],
   "source": [
    "#exercício 45\n",
    "import datetime\n",
    "\n",
    "def validar_data(data_str):\n",
    "    try:\n",
    "        datetime.datetime.strptime(data_str, \"%d/%m/%Y\")\n",
    "        return True\n",
    "    except ValueError:\n",
    "        return False\n",
    "\n",
    "def data_por_extenso(data_str):\n",
    "    if not validar_data(data_str):\n",
    "        return None\n",
    "\n",
    "    dias_extenso = [\"\", \"Janeiro\", \"Fevereiro\", \"Março\", \"Abril\", \"Maio\", \"Junho\", \n",
    "                    \"Julho\", \"Agosto\", \"Setembro\", \"Outubro\", \"Novembro\", \"Dezembro\"]\n",
    "\n",
    "    dia, mes, ano = map(int, data_str.split('/'))\n",
    "    return f\"{dia} de {dias_extenso[mes]} de {ano}\"\n",
    "\n",
    "# Exemplo de uso\n",
    "data = input(\"Digite uma data no formato DD/MM/AAAA: \")\n",
    "resultado = data_por_extenso(data)\n",
    "\n",
    "if resultado:\n",
    "    print(f\"A data por extenso é: {resultado}\")\n",
    "else:\n",
    "    print(\"Data inválida!\")"
   ]
  }
 ],
 "metadata": {
  "kernelspec": {
   "display_name": "Python 3 (ipykernel)",
   "language": "python",
   "name": "python3"
  },
  "language_info": {
   "codemirror_mode": {
    "name": "ipython",
    "version": 3
   },
   "file_extension": ".py",
   "mimetype": "text/x-python",
   "name": "python",
   "nbconvert_exporter": "python",
   "pygments_lexer": "ipython3",
   "version": "3.12.7"
  }
 },
 "nbformat": 4,
 "nbformat_minor": 5
}
